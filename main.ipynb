{
 "cells": [
  {
   "cell_type": "code",
   "execution_count": null,
   "source": [
    "from settings import *\r\n",
    "from functions import *\r\n",
    "from parameters import *\r\n",
    "import xgboost as xgb\r\n",
    "import lightgbm as lgb\r\n",
    "import catboost as ctb"
   ],
   "outputs": [],
   "metadata": {}
  },
  {
   "cell_type": "code",
   "execution_count": null,
   "source": [
    "train = pd.read_csv(\"data/train.csv\", index_col=0)\r\n",
    "test = pd.read_csv(\"data/test.csv\", index_col=0)"
   ],
   "outputs": [],
   "metadata": {}
  },
  {
   "cell_type": "code",
   "execution_count": null,
   "source": [
    "cat_columns = find_cat_columns(train)\r\n",
    "X_folds_df = create_folds(df=train, n_folds=N_FOLDS)"
   ],
   "outputs": [],
   "metadata": {}
  },
  {
   "cell_type": "code",
   "execution_count": null,
   "source": [
    "xgboost_valid_predictions_df, xgboost_test_predictions_df, xgboost_scores = fit_predict_with_folds_rmse(X_folds_df, \r\n",
    "                                                                                test=test,\r\n",
    "                                                                                n_folds=N_FOLDS, \r\n",
    "                                                                                unuseful_features=UNUSEFUL_COLUMNS,\r\n",
    "                                                                                columns_to_drop=cat_columns, \r\n",
    "                                                                                ohe_columns=OHE_COLUMNS,\r\n",
    "                                                                                ord_columns=ORD_COLUMNS,\r\n",
    "                                                                                freq_columns=FREQ_COLUMNS,\r\n",
    "                                                                                sq_columns=SQ_COLUMNS,\r\n",
    "                                                                                model_algorithm=xgb.XGBRegressor, \r\n",
    "                                                                                train_params=xgboost_train_parameters, \r\n",
    "                                                                                fit_params=xgboost_fit_parameters,\r\n",
    "                                                                                files_prefix='xgboost_a')"
   ],
   "outputs": [],
   "metadata": {}
  },
  {
   "cell_type": "code",
   "execution_count": null,
   "source": [
    "lgbm_valid_predictions_df, lgbm_test_predictions_df, lgbm_scores = fit_predict_with_folds_rmse(X_folds_df, \r\n",
    "                                                                                test=test,\r\n",
    "                                                                                n_folds=N_FOLDS, \r\n",
    "                                                                                unuseful_features=UNUSEFUL_COLUMNS,\r\n",
    "                                                                                columns_to_drop=cat_columns, \r\n",
    "                                                                                ohe_columns=OHE_COLUMNS,\r\n",
    "                                                                                ord_columns=ORD_COLUMNS,\r\n",
    "                                                                                freq_columns=FREQ_COLUMNS,\r\n",
    "                                                                                sq_columns=SQ_COLUMNS,\r\n",
    "                                                                                model_algorithm=lgb.LGBMRegressor, \r\n",
    "                                                                                train_params=lgbm_train_parameters, \r\n",
    "                                                                                fit_params=lgbm_fit_parameters,\r\n",
    "                                                                                files_prefix='lgbm')\r\n",
    "#old 0.7178543219749551 0.0009118122890869622"
   ],
   "outputs": [],
   "metadata": {}
  },
  {
   "cell_type": "code",
   "execution_count": null,
   "source": [
    "cat_fit_parameters['cat_features'] = np.where(X_folds_df.dtypes == object)[0]\r\n",
    "cat_valid_predictions_df, cat_test_predictions_df, cat_scores = fit_predict_with_folds_rmse(X_folds_df, \r\n",
    "                                                                                test=test,\r\n",
    "                                                                                n_folds=N_FOLDS, \r\n",
    "                                                                                unuseful_features=UNUSEFUL_COLUMNS,\r\n",
    "                                                                                columns_to_drop=[], \r\n",
    "                                                                                ohe_columns=[],\r\n",
    "                                                                                ord_columns=[],\r\n",
    "                                                                                freq_columns=FREQ_COLUMNS,\r\n",
    "                                                                                sq_columns=SQ_COLUMNS,\r\n",
    "                                                                                model_algorithm=ctb.CatBoostRegressor, \r\n",
    "                                                                                train_params=cat_train_parameters, \r\n",
    "                                                                                fit_params=cat_fit_parameters,\r\n",
    "                                                                                files_prefix='cat')"
   ],
   "outputs": [],
   "metadata": {}
  },
  {
   "cell_type": "code",
   "execution_count": null,
   "source": [],
   "outputs": [],
   "metadata": {}
  }
 ],
 "metadata": {
  "orig_nbformat": 4,
  "language_info": {
   "name": "python",
   "version": "3.8.5",
   "mimetype": "text/x-python",
   "codemirror_mode": {
    "name": "ipython",
    "version": 3
   },
   "pygments_lexer": "ipython3",
   "nbconvert_exporter": "python",
   "file_extension": ".py"
  },
  "kernelspec": {
   "name": "python3",
   "display_name": "Python 3.8.5 64-bit ('ml_venv': venv)"
  },
  "interpreter": {
   "hash": "eabf9ecea19a87791f33c97fd2cf8760e93325e153fc0ba855c27e6a162a5a83"
  }
 },
 "nbformat": 4,
 "nbformat_minor": 2
}