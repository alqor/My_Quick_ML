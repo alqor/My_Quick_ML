{
 "cells": [
  {
   "cell_type": "code",
   "execution_count": 1,
   "source": [
    "from settings import *\r\n",
    "from functions import *\r\n",
    "from parameters import *\r\n",
    "import xgboost as xgb\r\n",
    "from os import listdir"
   ],
   "outputs": [],
   "metadata": {}
  },
  {
   "cell_type": "code",
   "execution_count": 2,
   "source": [
    "orig_train = pd.read_csv(\"data/train.csv\", index_col=0)"
   ],
   "outputs": [],
   "metadata": {}
  },
  {
   "cell_type": "code",
   "execution_count": 3,
   "source": [
    "valid_files = ['predictions/'+f for f in listdir('predictions') if 'valid' in f and 'stack' not in f]\r\n",
    "test_files = ['predictions/'+f for f in listdir('predictions') if 'test' in f and 'stack' not in f]"
   ],
   "outputs": [],
   "metadata": {}
  },
  {
   "cell_type": "code",
   "execution_count": 4,
   "source": [
    "train_stack = create_train_test_stack(valid_files, mode='train', original_train=orig_train)\r\n",
    "train_stack.to_csv('stack_data/stack_train.csv', index=False)\r\n",
    "\r\n",
    "test_stack = create_train_test_stack(test_files, mode='test')"
   ],
   "outputs": [],
   "metadata": {}
  },
  {
   "cell_type": "code",
   "execution_count": 5,
   "source": [
    "SQ_COLUMNS = [col for col in train_stack.columns if col not in UNUSEFUL_COLUMNS]"
   ],
   "outputs": [],
   "metadata": {}
  },
  {
   "cell_type": "code",
   "execution_count": 8,
   "source": [
    "X_folds_df = create_folds(df=train_stack, n_folds=N_FOLDS)"
   ],
   "outputs": [],
   "metadata": {}
  },
  {
   "cell_type": "code",
   "execution_count": 11,
   "source": [
    "satck_valid_predictions_df, stack_test_predictions_df, stack_scores = fit_predict_with_folds_rmse(X_folds_df, \r\n",
    "                                                                                test=test_stack,\r\n",
    "                                                                                n_folds=N_FOLDS, \r\n",
    "                                                                                unuseful_features=UNUSEFUL_COLUMNS,\r\n",
    "                                                                                columns_to_drop=[], \r\n",
    "                                                                                ohe_columns=[],\r\n",
    "                                                                                ord_columns=[],\r\n",
    "                                                                                freq_columns=[],\r\n",
    "                                                                                sq_columns=SQ_COLUMNS,\r\n",
    "                                                                                model_algorithm=xgb.XGBRegressor, \r\n",
    "                                                                                train_params=stack_params, \r\n",
    "                                                                                fit_params=xgboost_fit_parameters,\r\n",
    "                                                                                files_prefix='stack')"
   ],
   "outputs": [
    {
     "output_type": "stream",
     "name": "stdout",
     "text": [
      "0 0.7159289554352326\n",
      "1 0.7161307326826413\n",
      "2 0.718041350991523\n",
      "3 0.7177348050546877\n",
      "4 0.7159686973824987\n",
      "0.7167609083093167 0.0009278872119802328\n"
     ]
    }
   ],
   "metadata": {}
  },
  {
   "cell_type": "markdown",
   "source": [],
   "metadata": {}
  },
  {
   "cell_type": "code",
   "execution_count": null,
   "source": [],
   "outputs": [],
   "metadata": {}
  }
 ],
 "metadata": {
  "orig_nbformat": 4,
  "language_info": {
   "name": "python",
   "version": "3.8.5",
   "mimetype": "text/x-python",
   "codemirror_mode": {
    "name": "ipython",
    "version": 3
   },
   "pygments_lexer": "ipython3",
   "nbconvert_exporter": "python",
   "file_extension": ".py"
  },
  "kernelspec": {
   "name": "python3",
   "display_name": "Python 3.8.5 64-bit ('ml_venv': venv)"
  },
  "interpreter": {
   "hash": "eabf9ecea19a87791f33c97fd2cf8760e93325e153fc0ba855c27e6a162a5a83"
  }
 },
 "nbformat": 4,
 "nbformat_minor": 2
}