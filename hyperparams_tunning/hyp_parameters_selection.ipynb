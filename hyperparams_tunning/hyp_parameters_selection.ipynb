{
 "cells": [
  {
   "cell_type": "code",
   "execution_count": 2,
   "source": [
    "import lightgbm as lgb\r\n",
    "import xgboost as xgb\r\n",
    "import catboost as ctb\r\n",
    "\r\n",
    "from hyp_functions import *\r\n",
    "sys.path.append(str(PAR_DIR))\r\n",
    "\r\n",
    "from functions import *\r\n",
    "from settings import *\r\n",
    "from parameters import *"
   ],
   "outputs": [],
   "metadata": {}
  },
  {
   "cell_type": "code",
   "execution_count": 3,
   "source": [
    "train = pd.read_csv(PAR_DIR /  \"data/train.csv\", index_col=0)\r\n",
    "cat_columns = find_cat_columns(train)\r\n",
    "X_folds_df = create_folds(df=train, n_folds=N_FOLDS)"
   ],
   "outputs": [],
   "metadata": {}
  },
  {
   "cell_type": "code",
   "execution_count": 4,
   "source": [
    "bp_lgbm = get_best_params(\r\n",
    "    direction='minimize',\r\n",
    "    n_trilas=2,\r\n",
    "    X_folds=X_folds_df,\r\n",
    "    fold=1,\r\n",
    "    param_dict='LGBM',\r\n",
    "    unuseful_features=UNUSEFUL_COLUMNS,\r\n",
    "    columns_to_drop=cat_columns,\r\n",
    "    ohe_columns=OHE_COLUMNS,\r\n",
    "    ord_columns=ORD_COLUMNS,\r\n",
    "    freq_columns=FREQ_COLUMNS,\r\n",
    "    sq_columns=SQ_COLUMNS,\r\n",
    "    model_algorithm=lgb.LGBMRegressor,\r\n",
    "    base_train_params=lgbm_train_parameters,\r\n",
    "    fit_params=lgbm_fit_parameters,\r\n",
    "    file_to_write='lgbm_optuna_1')"
   ],
   "outputs": [
    {
     "output_type": "stream",
     "name": "stderr",
     "text": [
      "\u001b[32m[I 2021-08-31 16:15:57,630]\u001b[0m A new study created in memory with name: no-name-aa6aae6d-781e-4042-ae61-ab4bebe4d961\u001b[0m\n",
      "d:\\PY\\KAGGLE\\ml_venv\\lib\\site-packages\\optuna\\trial\\_trial.py:772: RuntimeWarning: Inconsistent parameter values for distribution with name \"learning_rate\"! This might be a configuration mistake. Optuna allows to call the same distribution with the same name more then once in a trial. When the parameter values are inconsistent optuna only uses the values of the first call and ignores all following. Using these values: {'low': 0.01, 'high': 0.4}\n",
      "  warnings.warn(\n",
      "d:\\PY\\KAGGLE\\ml_venv\\lib\\site-packages\\optuna\\trial\\_trial.py:772: RuntimeWarning: Inconsistent parameter values for distribution with name \"reg_alpha\"! This might be a configuration mistake. Optuna allows to call the same distribution with the same name more then once in a trial. When the parameter values are inconsistent optuna only uses the values of the first call and ignores all following. Using these values: {'low': 1e-08, 'high': 100.0}\n",
      "  warnings.warn(\n",
      "d:\\PY\\KAGGLE\\ml_venv\\lib\\site-packages\\optuna\\trial\\_trial.py:772: RuntimeWarning: Inconsistent parameter values for distribution with name \"max_depth\"! This might be a configuration mistake. Optuna allows to call the same distribution with the same name more then once in a trial. When the parameter values are inconsistent optuna only uses the values of the first call and ignores all following. Using these values: {'low': 1, 'high': 10, 'step': 1}\n",
      "  warnings.warn(\n"
     ]
    },
    {
     "output_type": "stream",
     "name": "stdout",
     "text": [
      "Training until validation scores don't improve for 100 rounds\n",
      "Early stopping, best iteration is:\n",
      "[4339]\tvalid_0's rmse: 0.71803\n"
     ]
    },
    {
     "output_type": "stream",
     "name": "stderr",
     "text": [
      "\u001b[32m[I 2021-08-31 16:16:52,031]\u001b[0m Trial 0 finished with value: 0.7180300188016532 and parameters: {'learning_rate': 0.14306350527368997, 'reg_lambda': 5.527996259692066e-05, 'reg_alpha': 1.1556968983885738e-06, 'subsample': 0.8467760489585355, 'colsample_bytree': 0.46906301953844876, 'max_depth': 2, 'num_leaves': 82, 'l2_leaf_reg': 3.0, 'min_child_samples': 8, 'depth': 6}. Best is trial 0 with value: 0.7180300188016532.\u001b[0m\n",
      "d:\\PY\\KAGGLE\\ml_venv\\lib\\site-packages\\optuna\\trial\\_trial.py:772: RuntimeWarning: Inconsistent parameter values for distribution with name \"learning_rate\"! This might be a configuration mistake. Optuna allows to call the same distribution with the same name more then once in a trial. When the parameter values are inconsistent optuna only uses the values of the first call and ignores all following. Using these values: {'low': 0.01, 'high': 0.4}\n",
      "  warnings.warn(\n",
      "d:\\PY\\KAGGLE\\ml_venv\\lib\\site-packages\\optuna\\trial\\_trial.py:772: RuntimeWarning: Inconsistent parameter values for distribution with name \"reg_alpha\"! This might be a configuration mistake. Optuna allows to call the same distribution with the same name more then once in a trial. When the parameter values are inconsistent optuna only uses the values of the first call and ignores all following. Using these values: {'low': 1e-08, 'high': 100.0}\n",
      "  warnings.warn(\n",
      "d:\\PY\\KAGGLE\\ml_venv\\lib\\site-packages\\optuna\\trial\\_trial.py:772: RuntimeWarning: Inconsistent parameter values for distribution with name \"max_depth\"! This might be a configuration mistake. Optuna allows to call the same distribution with the same name more then once in a trial. When the parameter values are inconsistent optuna only uses the values of the first call and ignores all following. Using these values: {'low': 1, 'high': 10, 'step': 1}\n",
      "  warnings.warn(\n"
     ]
    },
    {
     "output_type": "stream",
     "name": "stdout",
     "text": [
      "Training until validation scores don't improve for 100 rounds\n",
      "Did not meet early stopping. Best iteration is:\n",
      "[6995]\tvalid_0's rmse: 0.719732\n"
     ]
    },
    {
     "output_type": "stream",
     "name": "stderr",
     "text": [
      "\u001b[32m[I 2021-08-31 16:18:33,269]\u001b[0m Trial 1 finished with value: 0.7197319144891943 and parameters: {'learning_rate': 0.021796116801010065, 'reg_lambda': 2.4159919248746638e-06, 'reg_alpha': 0.5177783837424649, 'subsample': 0.9693909581367661, 'colsample_bytree': 0.9466326635967416, 'max_depth': 4, 'num_leaves': 90, 'l2_leaf_reg': 3.0, 'min_child_samples': 8, 'depth': 2}. Best is trial 0 with value: 0.7180300188016532.\u001b[0m\n"
     ]
    },
    {
     "output_type": "stream",
     "name": "stdout",
     "text": [
      "Best Params: {'learning_rate': 0.14306350527368997, 'reg_lambda': 5.527996259692066e-05, 'reg_alpha': 1.1556968983885738e-06, 'subsample': 0.8467760489585355, 'colsample_bytree': 0.46906301953844876, 'max_depth': 2, 'num_leaves': 82, 'l2_leaf_reg': 3.0, 'min_child_samples': 8, 'depth': 6}\n"
     ]
    }
   ],
   "metadata": {}
  },
  {
   "cell_type": "code",
   "execution_count": 7,
   "source": [
    "bp_xgboost = get_best_params(\r\n",
    "    direction='minimize',\r\n",
    "    n_trilas=2,\r\n",
    "    X_folds=X_folds_df,\r\n",
    "    fold=1,\r\n",
    "    param_dict='XGBOOST',\r\n",
    "    unuseful_features=UNUSEFUL_COLUMNS,\r\n",
    "    columns_to_drop=cat_columns,\r\n",
    "    ohe_columns=OHE_COLUMNS,\r\n",
    "    ord_columns=ORD_COLUMNS,\r\n",
    "    freq_columns=FREQ_COLUMNS,\r\n",
    "    sq_columns=SQ_COLUMNS,\r\n",
    "    model_algorithm=xgb.XGBRegressor,\r\n",
    "    base_train_params=xgboost_base_train_parameters,\r\n",
    "    fit_params=xgboost_fit_parameters,\r\n",
    "    file_to_write='xgboost_optuna_1')"
   ],
   "outputs": [
    {
     "output_type": "stream",
     "name": "stderr",
     "text": [
      "\u001b[32m[I 2021-08-31 16:19:25,300]\u001b[0m A new study created in memory with name: no-name-984aa2fc-33ca-4f6c-88e7-324478acb5ad\u001b[0m\n",
      "d:\\PY\\KAGGLE\\ml_venv\\lib\\site-packages\\optuna\\trial\\_trial.py:772: RuntimeWarning: Inconsistent parameter values for distribution with name \"learning_rate\"! This might be a configuration mistake. Optuna allows to call the same distribution with the same name more then once in a trial. When the parameter values are inconsistent optuna only uses the values of the first call and ignores all following. Using these values: {'low': 0.01, 'high': 0.4}\n",
      "  warnings.warn(\n",
      "d:\\PY\\KAGGLE\\ml_venv\\lib\\site-packages\\optuna\\trial\\_trial.py:772: RuntimeWarning: Inconsistent parameter values for distribution with name \"reg_alpha\"! This might be a configuration mistake. Optuna allows to call the same distribution with the same name more then once in a trial. When the parameter values are inconsistent optuna only uses the values of the first call and ignores all following. Using these values: {'low': 1e-08, 'high': 100.0}\n",
      "  warnings.warn(\n",
      "d:\\PY\\KAGGLE\\ml_venv\\lib\\site-packages\\optuna\\trial\\_trial.py:772: RuntimeWarning: Inconsistent parameter values for distribution with name \"max_depth\"! This might be a configuration mistake. Optuna allows to call the same distribution with the same name more then once in a trial. When the parameter values are inconsistent optuna only uses the values of the first call and ignores all following. Using these values: {'low': 1, 'high': 10, 'step': 1}\n",
      "  warnings.warn(\n",
      "\u001b[32m[I 2021-08-31 16:20:12,665]\u001b[0m Trial 0 finished with value: 0.7208445920112981 and parameters: {'learning_rate': 0.26831029111033267, 'reg_lambda': 0.9153933374927868, 'reg_alpha': 0.0025616915205408817, 'subsample': 0.7831559183661578, 'colsample_bytree': 0.40135828575343624, 'max_depth': 4, 'num_leaves': 226, 'l2_leaf_reg': 2.5, 'min_child_samples': 16, 'depth': 2}. Best is trial 0 with value: 0.7208445920112981.\u001b[0m\n",
      "d:\\PY\\KAGGLE\\ml_venv\\lib\\site-packages\\optuna\\trial\\_trial.py:772: RuntimeWarning: Inconsistent parameter values for distribution with name \"learning_rate\"! This might be a configuration mistake. Optuna allows to call the same distribution with the same name more then once in a trial. When the parameter values are inconsistent optuna only uses the values of the first call and ignores all following. Using these values: {'low': 0.01, 'high': 0.4}\n",
      "  warnings.warn(\n",
      "d:\\PY\\KAGGLE\\ml_venv\\lib\\site-packages\\optuna\\trial\\_trial.py:772: RuntimeWarning: Inconsistent parameter values for distribution with name \"reg_alpha\"! This might be a configuration mistake. Optuna allows to call the same distribution with the same name more then once in a trial. When the parameter values are inconsistent optuna only uses the values of the first call and ignores all following. Using these values: {'low': 1e-08, 'high': 100.0}\n",
      "  warnings.warn(\n",
      "d:\\PY\\KAGGLE\\ml_venv\\lib\\site-packages\\optuna\\trial\\_trial.py:772: RuntimeWarning: Inconsistent parameter values for distribution with name \"max_depth\"! This might be a configuration mistake. Optuna allows to call the same distribution with the same name more then once in a trial. When the parameter values are inconsistent optuna only uses the values of the first call and ignores all following. Using these values: {'low': 1, 'high': 10, 'step': 1}\n",
      "  warnings.warn(\n"
     ]
    }
   ],
   "metadata": {}
  },
  {
   "cell_type": "code",
   "execution_count": null,
   "source": [
    "bp_cat = get_best_params(\r\n",
    "    direction='minimize',\r\n",
    "    n_trilas=2,\r\n",
    "    X_folds=X_folds_df,\r\n",
    "    fold=1,\r\n",
    "    param_dict='CAT',\r\n",
    "    unuseful_features=UNUSEFUL_COLUMNS,\r\n",
    "    columns_to_drop=[], \r\n",
    "     ohe_columns=[],\r\n",
    "     ord_columns=[],\r\n",
    "     freq_columns=FREQ_COLUMNS,\r\n",
    "     sq_columns=SQ_COLUMNS,\r\n",
    "     model_algorithm=ctb.CatBoostRegressor, \r\n",
    "    base_train_params=cat_base_train_parameters,\r\n",
    "    fit_params=cat_fit_parameters,\r\n",
    "    file_to_write='cat_optuna_1')"
   ],
   "outputs": [],
   "metadata": {}
  },
  {
   "cell_type": "code",
   "execution_count": null,
   "source": [],
   "outputs": [],
   "metadata": {}
  }
 ],
 "metadata": {
  "orig_nbformat": 4,
  "language_info": {
   "name": "python",
   "version": "3.8.5",
   "mimetype": "text/x-python",
   "codemirror_mode": {
    "name": "ipython",
    "version": 3
   },
   "pygments_lexer": "ipython3",
   "nbconvert_exporter": "python",
   "file_extension": ".py"
  },
  "kernelspec": {
   "name": "python3",
   "display_name": "Python 3.8.5 64-bit ('ml_venv': venv)"
  },
  "interpreter": {
   "hash": "eabf9ecea19a87791f33c97fd2cf8760e93325e153fc0ba855c27e6a162a5a83"
  }
 },
 "nbformat": 4,
 "nbformat_minor": 2
}